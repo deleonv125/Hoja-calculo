{
 "cells": [
  {
   "cell_type": "markdown",
   "metadata": {},
   "source": [
    "<h1><center> DISEÑO DE PILOTES PREEXCAVADOS EN SUELO </center></h1>"
   ]
  },
  {
   "cell_type": "markdown",
   "metadata": {},
   "source": [
    "<div style=\"text-align: right\"> Desarrolado por David León Vanegas - davidleon@ingetec.com.co </div> "
   ]
  },
  {
   "cell_type": "markdown",
   "metadata": {},
   "source": [
    "<div style=\"text-align: justify\"> \n",
    "Hoja de calculo de pilotes preexcavados en suelos a partir de la metodología $\\alpha$ y $\\beta$ para el calculo de la resistencia por fricción y la formulación de O'Neill & Reese para el cálculo de la resistencia por punta. \n",
    "</div> "
   ]
  },
  {
   "cell_type": "code",
   "execution_count": 1,
   "metadata": {},
   "outputs": [],
   "source": [
    "# carga de paquetes necesarios para el calculo\n",
    "import numpy as np\n",
    "import matplotlib.pyplot as plt\n",
    "from matplotlib.widgets import CheckButtons\n",
    "import pandas as pd\n",
    "from numba import njit\n",
    "from ipywidgets import *\n",
    "from IPython.display import display\n",
    "from notebook.auth import passwd\n",
    "\n",
    "#%matplotlib nbagg\n",
    "%matplotlib notebook\n",
    "#%matplotlib inline"
   ]
  },
  {
   "cell_type": "code",
   "execution_count": null,
   "metadata": {
    "collapsed": true
   },
   "outputs": [],
   "source": [
    "passwd()"
   ]
  },
  {
   "cell_type": "markdown",
   "metadata": {},
   "source": [
    "### 1. DEFINICIÓN DE PARAMETROS DEL SUELO"
   ]
  },
  {
   "cell_type": "markdown",
   "metadata": {},
   "source": [
    "Numero de estratos en los que se dividide el suelo hasta la profundidad del pilote a analizar"
   ]
  },
  {
   "cell_type": "code",
   "execution_count": null,
   "metadata": {},
   "outputs": [],
   "source": [
    "def f(Estratos=2):\n",
    "    return Estratos\n",
    "est = interactive(f, Estratos=[1, 2, 3, 4, 5])\n",
    "display(est)"
   ]
  },
  {
   "cell_type": "markdown",
   "metadata": {},
   "source": [
    "<div style=\"text-align: justify\"> \n",
    "Definción de las propiedades geoténicas de cada uno de los materiales a lo largo del pilote, así como la profundidad en donde se ubica el nivel freático.\n",
    "</div> "
   ]
  },
  {
   "cell_type": "code",
   "execution_count": null,
   "metadata": {},
   "outputs": [],
   "source": [
    "estratos = est.result # devuelve el resultado de la funcion el return\n",
    "des, col, es, gam, su_min, su_max, c = [],[],[],[],[],[],[]\n",
    "for i in range(estratos):\n",
    "    des.append(widgets.Text(description='Tipo Material:'))\n",
    "    col.append(widgets.ColorPicker(concise=False, description='Color',disabled=False))\n",
    "    es.append(widgets.Text(description='Espesor $(m)$:'))\n",
    "    gam.append(widgets.Text(description=r'$\\gamma \\, (kN/m^3)$:'))\n",
    "    su_min.append(widgets.Text(description='Su $(kPa)$:', placeholder='valor minimo', layout=Layout(width='200px')))\n",
    "    su_max.append(widgets.Text(description='—', placeholder='valor maximo', layout=Layout(width='200px')))\n",
    "    c.append(widgets.VBox([des[i],col[i],es[i],gam[i], \n",
    "                           widgets.HBox([su_min[i],su_max[i]], layout=Layout(align_content='stretch') )]))\n",
    "    HTML('<style> .widget-text { width: auto; } </style>')\n",
    "\n",
    "accordion = widgets.Accordion(children=[c[i] for i in range(estratos)])\n",
    "for i in range(estratos):\n",
    "    accordion.set_title(i, 'Material '+str(i+1))\n",
    "display(accordion)\n",
    "\n",
    "freatico = widgets.Text(description='Nivel freatico: ')\n",
    "display(freatico)"
   ]
  },
  {
   "cell_type": "markdown",
   "metadata": {},
   "source": [
    "<div style=\"text-align: justify\"> \n",
    "Perfil estratigrafico a lo largo de la profundidad de análisis.\n",
    "</div> "
   ]
  },
  {
   "cell_type": "code",
   "execution_count": null,
   "metadata": {},
   "outputs": [],
   "source": [
    "# guardando informacion recibida de los estratos en array numpy\n",
    "resumen = np.zeros((estratos, 6)).astype(object)\n",
    "for i in range(estratos):\n",
    "    if i == 0:\n",
    "        resumen[i,1] = float(es[i].value)\n",
    "    else:\n",
    "        resumen[i,0] = resumen[i-1,1]\n",
    "        resumen[i,1] = resumen[i,0] + float(es[i].value)\n",
    "    resumen[i,2] = str(des[i].value)\n",
    "    resumen[i,3] = float(gam[i].value)\n",
    "    resumen[i,4] = float(su_min[i].value)\n",
    "    resumen[i,5] = float(su_max[i].value)\n",
    "\n",
    "#print(resumen)\n",
    "NF = float(freatico.value)\n",
    "\n",
    "fig, axes = plt.subplots(1, figsize=(5,5))\n",
    "bbox_props = dict(boxstyle=\"round\", fc=\"w\", ec=\"0.5\", alpha=0.9)\n",
    "for i in range(estratos):\n",
    "    axes.plot([0,10], [resumen[i,1], resumen[i,1]], '--r')\n",
    "    axes.text(8.5,resumen[i,1],str(resumen[i,1])+' m')\n",
    "    axes.fill([0, 10, 10, 0], [resumen[i,0], resumen[i,0], resumen[i,1], resumen[i,1]],color=col[i].value)\n",
    "    axes.text(5, resumen[i,0]+float(es[i].value)/2, \n",
    "              resumen[i,2]+'\\n'+r'$\\gamma = $'+str(resumen[i,3])+r' $kN/m^3$'+'\\n $S_u = $'+str(resumen[i,4])+'-'+str(resumen[i,5])+r' $kPa$',\n",
    "              ha=\"center\", va=\"center\", size=10, bbox=bbox_props)\n",
    "\n",
    "axes.plot([0,10],[NF,NF],'-b')\n",
    "axes.text(0.5,NF,'NF='+str(NF)+'m')\n",
    "axes.set(Title='PERFIL ESTRATIGRAFICO', ylabel=\"Profundidad (m)\")\n",
    "axes.get_xaxis().set_visible(False)\n",
    "axes.set(xlim=(0, 10), ylim=(resumen[-1,1],0))\n",
    "axes.plot()"
   ]
  },
  {
   "cell_type": "markdown",
   "metadata": {},
   "source": [
    "### 2. Definicion de caracteristicas del pilote"
   ]
  },
  {
   "cell_type": "markdown",
   "metadata": {},
   "source": [
    "<div style=\"text-align: justify\"> \n",
    "Seleccionar el numero de diámetros de pilote diferentes a analizar\n",
    "</div> "
   ]
  },
  {
   "cell_type": "code",
   "execution_count": null,
   "metadata": {},
   "outputs": [],
   "source": [
    "ndiam = widgets.Dropdown(options=['1','2','3','4','5','6','7','8'],\n",
    "                       value='4', description='N° diametros')\n",
    "display(ndiam)"
   ]
  },
  {
   "cell_type": "markdown",
   "metadata": {},
   "source": [
    "<div style=\"text-align: justify\"> \n",
    "Seleccionar los diámetros analizar, así como otras propiedades del pilote como la profundidad $z_{fric}$ en donde se desprecia la resistencia a la fricción y la profundiad crítica $z_{cri}$, dada en numero de diámetros para la cual la resisencia por fricción es suelos granulares alcanza su limite.\n",
    "</div> "
   ]
  },
  {
   "cell_type": "code",
   "execution_count": null,
   "metadata": {},
   "outputs": [],
   "source": [
    "ndi = int(ndiam.value)\n",
    "diam = []\n",
    "for i in range(ndi):\n",
    "    diam.append(widgets.Text(description='Diam '+str(i+1)+'(m):'))\n",
    "boxdiam = widgets.VBox(diam)\n",
    "\n",
    "z_fri = widgets.Text(description='Zfriccion (m):', value='1.5')\n",
    "z_cri = widgets.Dropdown(options=['10','15','20'],\n",
    "                       value='10', description='Zcritica (D):')\n",
    "capa = widgets.Dropdown(options=['0.1','0.1','0.25','0.5','1.0'],\n",
    "                       value='0.5', description='Capa $(m)$')\n",
    "\n",
    "boxpilote = widgets.VBox([z_fri, z_cri, capa])\n",
    "display(boxdiam, boxpilote)"
   ]
  },
  {
   "cell_type": "markdown",
   "metadata": {},
   "source": [
    "### 3. Cálculo de la capacidad portante del pilote"
   ]
  },
  {
   "cell_type": "markdown",
   "metadata": {},
   "source": [
    "<div style=\"text-align: justify\"> \n",
    "La metodología de análisis empleada corresponde a la (XX), en donde la carga última de un pilote ($P_u$) está dada por la suma de la resistencia última por fuste ($P_{su}$) y por punta ($P_{bu}$), menos el peso del pilote ($W$).\n",
    "</div> "
   ]
  },
  {
   "cell_type": "markdown",
   "metadata": {},
   "source": [
    "$$P_u = P_{su} + P_{bu} - W$$"
   ]
  },
  {
   "cell_type": "markdown",
   "metadata": {},
   "source": [
    "<div style=\"text-align: justify\"> \n",
    "La resistencia última por fuste ($P_{su}$) se evalua integrando la resistecia al corte en la interfaz suelo-pilote ($\\tau_{a}$) a lo largo del área superficial del fuste, esta resistencia al corte puede evaluarse a través de la expresión de Coulomb.\n",
    "</div> "
   ]
  },
  {
   "cell_type": "markdown",
   "metadata": {},
   "source": [
    "$$\\tau_{a} = c_a + \\sigma_{n}\\tan{\\phi_a}$$"
   ]
  },
  {
   "cell_type": "markdown",
   "metadata": {},
   "source": [
    "<div style=\"text-align: justify\"> \n",
    "En donde $c_a$ es la adhesión, $\\sigma_n$ es el esfuerzo normal entre el pilote y el suelo y $\\phi_a$ es el ángulo de fricción entre el pilote y el suelo. <br>\n",
    "El esfuerzo normal $\\sigma_n$ se relaciona a través del esfuerzo vertical ($\\sigma_v$) a traves de un coeficiente de presión lateral ($K_s$)\n",
    "</div>"
   ]
  },
  {
   "cell_type": "markdown",
   "metadata": {},
   "source": [
    "$$\\sigma_n = K_s \\sigma_a$$"
   ]
  },
  {
   "cell_type": "markdown",
   "metadata": {},
   "source": [
    "<div style=\"text-align: justify\"> \n",
    "De esta manera la resistencia última por fueste puede determinarse a integrar a lo largo de la longitud del pilote la resistencia al corte entre el pilote y el suelo.\n",
    "</div>"
   ]
  },
  {
   "cell_type": "markdown",
   "metadata": {},
   "source": [
    "$$P_{su} = \\int_{0}^{L}{\\pi D (c_a + \\sigma_v K_s \\tan{\\phi_a})dz} \\qquad (1)$$"
   ]
  },
  {
   "cell_type": "markdown",
   "metadata": {},
   "source": [
    "<div style=\"text-align: justify\"> \n",
    "Para el cálculo de la resistencia por punta ($P_{bu}$) se suele usar la téoria de capacidad protante, por lo que esta magnitud se puede calcular a partir de la siguiente expresión.\n",
    "</div>"
   ]
  },
  {
   "cell_type": "markdown",
   "metadata": {},
   "source": [
    "$$P_{bu} = A_b (cN_c + \\sigma_{vb}N_q + \\frac12 \\gamma d N_{\\gamma}) \\qquad (2)$$"
   ]
  },
  {
   "cell_type": "markdown",
   "metadata": {},
   "source": [
    "<div style=\"text-align: justify\"> \n",
    "En donde $A_b$ es el área de la base del pilote, $c$ es la cohesión, $\\sigma_{vb}$ es el esfuerzo vertical en el suelo al nivel de la base del pilote, $\\gamma$ es el peso unitario del suelo, $d$ es el diámetro del pilote y $N_c, N_q, N_{\\gamma}$ son los factores de capacidad portante, los cuales son función del ángulo de fricción interno del suelo y la geometría del pilote.\n",
    "<br> A partir de las ecuaciones (1) y (2) se obtiene la carga útima del pilote.\n",
    "</div>"
   ]
  },
  {
   "cell_type": "markdown",
   "metadata": {},
   "source": [
    "$$P_{u} = \\int_{0}^{L}{\\pi D (c_a + \\sigma_v K_s \\tan{\\phi_a})dz} +\n",
    "A_b (cN_c + \\sigma_{vb}N_q + \\frac12 \\gamma d N_{\\gamma}) - W  \\qquad(3) $$"
   ]
  },
  {
   "cell_type": "markdown",
   "metadata": {},
   "source": [
    "#### 3.1. Pilote en suelo fino - condición no drenada"
   ]
  },
  {
   "cell_type": "markdown",
   "metadata": {},
   "source": [
    "<div style=\"text-align: justify\"> \n",
    "Para pilotes en suelos finos, la capacidad de carga en condición no drenada es generalmente la condición critica (Para arcillas altamente sobreconsolidadas la condición crítica es la condición drenada). Si el suelo fino se encuentra saturado, el ángulo de fricción no drenado $\\phi_u$ tiene un valor de cero y por lo tanto el ángulo $\\phi_a$ se puede tomar como cero, para este valor del ángulo de fricción $N_q = 1$ y $N_{\\gamma} = 0$, reduciendose entonces la Ecuación (3) a la siguiente expresión.\n",
    "</div>"
   ]
  },
  {
   "cell_type": "markdown",
   "metadata": {},
   "source": [
    "$$P_{u} = \\int_{0}^{L}{\\pi D c_a}dz + A_b (c_uN_c + \\sigma_{vb})  - W $$"
   ]
  },
  {
   "cell_type": "markdown",
   "metadata": {},
   "source": [
    "<div style=\"text-align: justify\"> \n",
    "En donde $c_u$ es la resistencia al corte no drenada de suelo al nivel de la base del pilote y $c_a$ es la adhesión no drenada suelo-piote.\n",
    "<br> La expresión anterior se puede simplificar para pilotes que no presentan ampliación de la sección en la base, debido a que $A_b\\sigma_{vb} \\approx W$, e igualmente se puede remplazar la integral a lo largo de la longitud del pilote por la sumatoria en capas de ancho $\\Delta z$.\n",
    "</div>"
   ]
  },
  {
   "cell_type": "markdown",
   "metadata": {},
   "source": [
    "$$P_{u} = \\sum{\\pi D c_a} \\Delta z + A_b c_uN_c  \\qquad(4) $$"
   ]
  },
  {
   "cell_type": "markdown",
   "metadata": {},
   "source": [
    "##### 3.1.1. Resistencia por punta"
   ]
  },
  {
   "cell_type": "markdown",
   "metadata": {},
   "source": [
    "<div style=\"text-align: justify\"> \n",
    "Para análisis en condición no drenada en suelos finos se puede seguir la metodología de O'Neill & Resse (1998) en esfuerzos totales, en donde para pilotes con una logitud mayor o igual a tres diaámetros, el factor de capacidad portante $N_c$ se pude calcular por medio de la siguiente ecuación. \n",
    "</div>"
   ]
  },
  {
   "cell_type": "markdown",
   "metadata": {},
   "source": [
    "$$N_c = \\begin{cases}\n",
    "        6.5, & c_u < 47.8 kPa \\\\[1ex]\n",
    "        8.0, & 47.8 kPa \\leqslant c_u \\leqslant 95.8 kPa \\\\[1ex]\n",
    "        9.0, & c_u > 95.8 kPa\n",
    "        \\end{cases}$$"
   ]
  },
  {
   "cell_type": "markdown",
   "metadata": {},
   "source": [
    "##### 3.1.2. Resistencia por fuste"
   ]
  },
  {
   "cell_type": "markdown",
   "metadata": {},
   "source": [
    "<div style=\"text-align: justify\"> \n",
    "La adhesión suelo-pilote $c_a$ puede calcular por medio de $c_a=\\alpha c_u$, en donde $\\alpha$ es un coeficiente que relaciona la adhesión con la resistencia al corte no drenada del suelo. El cálculo de la resistencia por fuste usando esta expresión se conoce como el \"_método $\\alpha$_\".\n",
    "<br> El coeficiente $\\alpha$ se determina normalmente en pruebas de carga, sin embargo existen un gran número de aproximaciones empíricas.\n",
    "</div>"
   ]
  },
  {
   "cell_type": "markdown",
   "metadata": {},
   "source": [
    "###### Calculo coeficiente $\\alpha$ - FCHW"
   ]
  },
  {
   "cell_type": "markdown",
   "metadata": {},
   "source": [
    "$$\\alpha = \\begin{cases}\n",
    "        0.0, & z < 5 ft \\approx 1.5 m \\\\[1ex]\n",
    "        0.55, & \\frac{c_u}{P_a} \\leqslant 1.5  \\\\[1ex]\n",
    "        0.55 - 0.1 \\left(\\frac{c_u}{P_a} - 1.5 \\right), & 1.5 < \\frac{c_u}{P_a} \\leqslant 2.5\n",
    "        \\end{cases}$$"
   ]
  },
  {
   "cell_type": "markdown",
   "metadata": {},
   "source": [
    "###### Calculo coeficiente $\\alpha$ - Metro Bogotá"
   ]
  },
  {
   "cell_type": "markdown",
   "metadata": {},
   "source": [
    "$$\\alpha = \\begin{cases}\n",
    "        0.0, & z < 1.5 m \\\\[1ex]\n",
    "        0.2 + 0.8\\exp\\left({0.35 -2\\frac{c_u}{P_a}}\\right), & \\frac{c_u}{P_a} > 0.175  \\\\[1ex]\n",
    "        1.0, &  \\frac{c_u}{P_a} \\leqslant 0.175\n",
    "        \\end{cases}$$"
   ]
  },
  {
   "cell_type": "markdown",
   "metadata": {},
   "source": [
    "Función para el calculo de capacidad portante"
   ]
  },
  {
   "cell_type": "code",
   "execution_count": null,
   "metadata": {
    "collapsed": true
   },
   "outputs": [],
   "source": [
    "# organizando informacion de diametros y el pilote\n",
    "D = [float(diam[i].value) for i in range(ndi)]\n",
    "Zf = float(z_fri.value)\n",
    "Zc = int(z_cri.value)\n",
    "dcapa = float(capa.value)\n",
    "\n",
    "ndatos = int(resumen[-1,1]/dcapa)\n",
    "tabla = np.zeros((ndatos,9))\n",
    "tabla[:,0] = np.linspace(0, resumen[-1,1]-dcapa, ndatos) #zi\n",
    "tabla[:,1] = np.linspace(dcapa, resumen[-1,1], ndatos) #zf\n",
    "tabla[:,2] = np.mean([tabla[:,0], tabla[:,1]], axis=0) #zm\n",
    "for i in range(estratos):\n",
    "    idz = np.where((tabla[:,1] > resumen[i,0]) & (tabla[:,1]<= resumen[i,1]))[0]\n",
    "    tabla[idz,3] = resumen[i,3] # peso unitario\n",
    "    tabla[idz,4] = resumen[i,4] # Su min\n",
    "    tabla[idz,6] = resumen[i,5] # Su max\n",
    "\n",
    "tabla[:,5] = np.mean([tabla[:,4], tabla[:,6]], axis=0) # Su promedio\n",
    "\n",
    "idnf = np.where(tabla[:,0]>= NF)[0]\n",
    "tabla[idnf,3] -= 9.81 # peso unitario efectivo\n",
    "\n",
    "# funcion para el calculo de capacidad ultima del pilote\n",
    "def pile_pu(tabla, Zc, Zf, D, alp):\n",
    "    \"\"\"Funcion que calcula la capacidad portante ultima a lo largo del pilote para los\n",
    "        diametros dados - SOLO SUELO FINO EN CONDICION NO DREANADA!!!\n",
    "        calcula para el valor minimo maximo y medio de Su\n",
    "        alp define la manera como se calcula el coeficiente alpha\n",
    "            alp='Hoja MetroBog'  => Hoja de calculo metro\n",
    "            alp='FHWA'  => FHWA\"\"\"\n",
    "    \n",
    "    # Calculo de variables preliminares\n",
    "    dz = tabla[0,1] - tabla[0,0]\n",
    "    dsigma = tabla[:,3]*dz\n",
    "    \n",
    "    ndi = len(D) # numero de diametros\n",
    "    ndatos = len(tabla[:,0]) # numero de datos - capas\n",
    "    Psu = [0,0,0]\n",
    "    Pbu = [0,0,0]\n",
    "    \n",
    "    for n in range(3):\n",
    "        # ciclo para moverse por el valor de Su\n",
    "        \n",
    "        # Iniciar array para carga ultima por punta y por friccion\n",
    "        Psu[n] = np.zeros((ndatos,ndi))\n",
    "        Pbu[n] = np.zeros((ndatos,ndi))\n",
    "\n",
    "        for j in range(ndi):\n",
    "            # calculo del esfuerzo vertical\n",
    "            for i in range(ndatos):\n",
    "                if i == 0:\n",
    "                    tabla[i,7] = dsigma[i] # esfuerzo en la base\n",
    "                    tabla[i,8] = dsigma[i]/2 # esfuerzo en la mitad de la capa\n",
    "                else:\n",
    "                    tabla[i,7] = dsigma[i] + tabla[i-1,7] # esfuerzo en la base\n",
    "                    tabla[i,8] = dsigma[i]/2 + tabla[i-1,7] # esfuerzo en la mitad de la capa\n",
    "\n",
    "            # restringuiendo el esfuerzo limite para suelos granualares\n",
    "            idzc = np.where(tabla[:,2] >= Zc*D[j])[0]\n",
    "            sigma_lim = tabla[idzc[0] - 1,6] # esfuerzo limite\n",
    "            tabla[idzc,8] = sigma_lim\n",
    "\n",
    "            # calculo del coeficiente alpha\n",
    "            if alp == 'Hoja MetroBog':\n",
    "                # calculo segun hoja de pilotes\n",
    "                alpha = 0.2 + 0.8*np.exp(0.35 - 2*tabla[:,n+4]/101.3)\n",
    "                idalphalim = np.where(alpha >= 1)[0]\n",
    "                alpha[idalphalim] = 1.0\n",
    "            elif alp == 'FHWA':\n",
    "                # calculo segun FHWA\n",
    "                alpha = 0.55 - 0.1*(tabla[:,n+4]/101.3 - 1.5)\n",
    "                idalphalim = np.where(tabla[:,n+4]/101.3 <= 1.5)[0]\n",
    "                alpha[idalphalim] = 0.55\n",
    "            \n",
    "            idZf= np.where(tabla[:,2] < Zf)[0]\n",
    "            alpha[idZf] = 0.0\n",
    "            \n",
    "\n",
    "            # resistencia nominales - sin importar el diametro del pilote\n",
    "            qs = alpha * tabla[:,n+4]*dz\n",
    "            qb = 9 * tabla[:,4]\n",
    "            qb[idZf] = 0.0\n",
    "            Qs = np.zeros(ndatos)\n",
    "            for i in range(ndatos):\n",
    "                if i == 0:\n",
    "                    Qs[i] = qs[i]\n",
    "                else:\n",
    "                    Qs[i] = Qs[i-1] + qs[i]\n",
    "\n",
    "            # resistencia para diametro dado\n",
    "            # para el diametro D[0]\n",
    "            Psu[n][:,j] = Qs * np.pi * D[j]\n",
    "            Pbu[n][:,j] = qb * np.pi * D[j] ** 2 / 4\n",
    "    \n",
    "    return Psu, Pbu"
   ]
  },
  {
   "cell_type": "markdown",
   "metadata": {},
   "source": [
    "Seleccionar el método de calculo del coeficiente $\\alpha$."
   ]
  },
  {
   "cell_type": "code",
   "execution_count": null,
   "metadata": {},
   "outputs": [],
   "source": [
    "alp_metodo = widgets.Dropdown(options=['FHWA','Hoja MetroBog'],\n",
    "                       value='FHWA', description='Calculo '+ r'$\\alpha$')\n",
    "display(alp_metodo)"
   ]
  },
  {
   "cell_type": "code",
   "execution_count": null,
   "metadata": {},
   "outputs": [],
   "source": [
    "alp = alp_metodo.value\n",
    "# calculo de capacidad ultima\n",
    "Psu, Pbu = pile_pu(tabla, Zc, Zf, D, alp)\n",
    "# Organizando carga ultima\n",
    "Pui = Psu[0] +Pbu[0]\n",
    "Pum = Psu[1] + Pbu[1]\n",
    "Pus = Psu[2] + Pbu[2]\n",
    "# carga admisibles\n",
    "Padi = Psu[0]/3 + Pbu[0]/3\n",
    "Padm = Psu[1]/3 + Pbu[1]/3\n",
    "Pads = Psu[2]/3 + Pbu[2]/3\n",
    "\n",
    "# Abaco de capacidad de carga de cada pilote\n",
    "color = ['blue','green','red','yellow','cyan','lime','magenta',\n",
    "         'orange','chocolate','olive']\n",
    "fig, axes = plt.subplots(1, figsize=(7,6))\n",
    "di = np.zeros(len(D)).astype(object)\n",
    "dm = np.zeros(len(D)).astype(object)\n",
    "ds = np.zeros(len(D)).astype(object)\n",
    "lacheck2 = ('minimo','medio','maximo')\n",
    "boocheck2 = (False, True, False)\n",
    "for i in range(ndi):\n",
    "    di[i], = axes.plot(Padi[:,i], tabla[:,0], '--', color=color[i], visible=False)\n",
    "    dm[i], = axes.plot(Padm[:,i], tabla[:,0], color=color[i], label = 'D = '+str(D[i])+' m')\n",
    "    ds[i], = axes.plot(Pads[:,i], tabla[:,0], '--', color=color[i], visible=False)\n",
    "\n",
    "plt.subplots_adjust(left=0.25)    \n",
    "axes.set(Title='Abaco cimentacion profunda - Caso estatico', \n",
    "         xlabel='Capacidad de carga pilote individual $(kN)$', \n",
    "         ylabel='Longitud del pilote ($m$) ')\n",
    "axes.set(xlim=(0, np.max(Pads) + 100), ylim=(resumen[-1,1],0))\n",
    "axes.grid(True, linestyle=':')\n",
    "axes.legend()\n",
    "\n",
    "# checkbutton 2\n",
    "rax2 = plt.axes([0.05, 0.7, 0.11, 0.15], fc='lightgoldenrodyellow', title='Su')\n",
    "check2 = CheckButtons(rax2, lacheck2, boocheck2)\n",
    "\n",
    "def su(label2):\n",
    "    for i in range(ndi):\n",
    "        if label2 == lacheck2[0]:\n",
    "            di[i].set_visible(not di[i].get_visible())\n",
    "        if label2 == lacheck2[1]:\n",
    "                dm[i].set_visible(not dm[i].get_visible())\n",
    "        if label2 == lacheck2[2]:\n",
    "                ds[i].set_visible(not ds[i].get_visible())      \n",
    "        plt.draw()\n",
    "\n",
    "check2.on_clicked(su)\n",
    "\n",
    "plt.show()"
   ]
  },
  {
   "cell_type": "code",
   "execution_count": null,
   "metadata": {},
   "outputs": [],
   "source": [
    "# correr para ocultar todo el codigo del programa\n",
    "%%html\n",
    "<style>\n",
    "div.input {\n",
    "    display:none;\n",
    "}\n",
    "</style>"
   ]
  },
  {
   "cell_type": "code",
   "execution_count": null,
   "metadata": {
    "collapsed": true
   },
   "outputs": [],
   "source": []
  }
 ],
 "metadata": {
  "kernelspec": {
   "display_name": "Python 3",
   "language": "python",
   "name": "python3"
  },
  "language_info": {
   "codemirror_mode": {
    "name": "ipython",
    "version": 3
   },
   "file_extension": ".py",
   "mimetype": "text/x-python",
   "name": "python",
   "nbconvert_exporter": "python",
   "pygments_lexer": "ipython3",
   "version": "3.6.3"
  }
 },
 "nbformat": 4,
 "nbformat_minor": 2
}
